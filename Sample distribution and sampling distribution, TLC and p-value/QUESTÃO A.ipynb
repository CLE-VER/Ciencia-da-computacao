{
 "cells": [
  {
   "cell_type": "markdown",
   "id": "6d3844a2",
   "metadata": {},
   "source": [
    "# Comando da Questão A: sample distribution and sampling distribution\n",
    "\n",
    "A partir do que foi feito na Atividade 2 “Considerando o primeiro trabalho, defina um experimento em que dados são coletados de uma variável de interesse do seu trabalho”, crie  uma população artificial dessa variável com uma distribuição Gaussiana e demonstre sample distribution and sampling distribution. Faça avaliações de probabilidade de possíveis eventos.\n"
   ]
  },
  {
   "cell_type": "code",
   "execution_count": null,
   "id": "b8c69ed2",
   "metadata": {},
   "outputs": [],
   "source": [
    "import numpy as np\n",
    "import matplotlib.pyplot as plt\n",
    "import scipy.stats as stats\n",
    "import pandas as pd\n",
    "\n",
    "# Parâmetros da População\n",
    "pop_mean = 30  # mu\n",
    "pop_std_dev = 5 # sigma\n",
    "population_size = 100000\n",
    "\n",
    "# Gerar a população artificial\n",
    "np.random.seed(42) # Para reprodutibilidade\n",
    "population_times = np.random.normal(loc=pop_mean, scale=pop_std_dev, size=population_size)\n",
    "\n",
    "# Plotar a distribuição da população\n",
    "plt.figure(figsize=(10, 6))\n",
    "plt.hist(population_times, bins=50, density=True, alpha=0.7, color='gray', label=f'População (N={population_size})')\n",
    "xmin, xmax = plt.xlim()\n",
    "x = np.linspace(xmin, xmax, 100)\n",
    "p = stats.norm.pdf(x, pop_mean, pop_std_dev)\n",
    "plt.plot(x, p, 'k', linewidth=2, label=f'Distribuição Normal Teórica\\n($\\mu={pop_mean}, \\sigma={pop_std_dev}$)')\n",
    "plt.title('Distribuição da População Artificial\\n(Tempo de Conclusão da Tarefa - Minutos)')\n",
    "plt.xlabel('Tempo de Conclusão (minutos)')\n",
    "plt.ylabel('Densidade de Probabilidade')\n",
    "plt.legend()\n",
    "plt.grid(axis='y', alpha=0.5)\n",
    "plt.show()\n",
    "\n",
    "print(f\"Média da População Simulada: {np.mean(population_times):.4f} (Esperado: {pop_mean})\")\n",
    "print(f\"Desvio Padrão da População Simulada: {np.std(population_times):.4f} (Esperado: {pop_std_dev})\")"
   ]
  }
 ],
 "metadata": {
  "language_info": {
   "name": "python"
  }
 },
 "nbformat": 4,
 "nbformat_minor": 5
}
