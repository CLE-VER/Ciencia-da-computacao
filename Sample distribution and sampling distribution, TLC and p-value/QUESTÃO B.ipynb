{
 "cells": [
  {
   "cell_type": "markdown",
   "id": "c60de52d",
   "metadata": {},
   "source": [
    "# COMANDO DA QUESTÃO B\n",
    "Aplique o TLC a função de distribuição gama e avalie quatro diferentes tamanhos de amostra, começando em 10."
   ]
  },
  {
   "cell_type": "markdown",
   "id": "779f5e25",
   "metadata": {},
   "source": []
  }
 ],
 "metadata": {
  "language_info": {
   "name": "python"
  }
 },
 "nbformat": 4,
 "nbformat_minor": 5
}
